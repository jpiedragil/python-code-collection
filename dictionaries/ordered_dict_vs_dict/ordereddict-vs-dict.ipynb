{
 "metadata": {
  "language_info": {
   "codemirror_mode": {
    "name": "ipython",
    "version": 3
   },
   "file_extension": ".py",
   "mimetype": "text/x-python",
   "name": "python",
   "nbconvert_exporter": "python",
   "pygments_lexer": "ipython3",
   "version": "3.9.2-final"
  },
  "orig_nbformat": 2,
  "kernelspec": {
   "name": "python3",
   "display_name": "Python 3.9.2 64-bit ('jplab3_vscode': conda)",
   "metadata": {
    "interpreter": {
     "hash": "781efe2f02e0a1786bef1869d79841c43af707769b96c8a4e888a356a49ff8a4"
    }
   }
  }
 },
 "nbformat": 4,
 "nbformat_minor": 2,
 "cells": [
  {
   "source": [
    "# Source code from [Real Python's](https://realpython.com/) article [OrderedDict vs dict in Python: The Right Tool for the Job](https://bit.ly/2Pjgabv), written by [Leodanis Pozo Ramos](https://realpython.com/python-ordereddict/#author)."
   ],
   "cell_type": "markdown",
   "metadata": {}
  },
  {
   "source": [
    "## Getting Started With Python's OrderedDict"
   ],
   "cell_type": "markdown",
   "metadata": {}
  },
  {
   "source": [
    "### Creating OrderedDict Objects"
   ],
   "cell_type": "markdown",
   "metadata": {}
  },
  {
   "cell_type": "code",
   "execution_count": 1,
   "metadata": {},
   "outputs": [
    {
     "output_type": "execute_result",
     "data": {
      "text/plain": [
       "OrderedDict([('one', 1), ('two', 2), ('three', 3)])"
      ]
     },
     "metadata": {},
     "execution_count": 1
    }
   ],
   "source": [
    "from collections import OrderedDict\n",
    "\n",
    "numbers = OrderedDict()\n",
    "\n",
    "numbers[\"one\"] = 1\n",
    "numbers[\"two\"] = 2\n",
    "numbers[\"three\"] = 3\n",
    "\n",
    "numbers"
   ]
  },
  {
   "cell_type": "code",
   "execution_count": 2,
   "metadata": {},
   "outputs": [
    {
     "output_type": "execute_result",
     "data": {
      "text/plain": [
       "OrderedDict([('one', 1), ('two', 2), ('three', 3)])"
      ]
     },
     "metadata": {},
     "execution_count": 2
    }
   ],
   "source": [
    "numbers = OrderedDict([(\"one\", 1), (\"two\", 2), (\"three\", 3)])\n",
    "numbers"
   ]
  },
  {
   "cell_type": "code",
   "execution_count": 3,
   "metadata": {},
   "outputs": [
    {
     "output_type": "execute_result",
     "data": {
      "text/plain": [
       "OrderedDict([('a', 1), ('b', 2), ('c', 3)])"
      ]
     },
     "metadata": {},
     "execution_count": 3
    }
   ],
   "source": [
    "letters = OrderedDict({(\"a\", 1), (\"b\", 2), (\"c\", 3)})\n",
    "letters"
   ]
  },
  {
   "cell_type": "code",
   "execution_count": 4,
   "metadata": {},
   "outputs": [
    {
     "output_type": "execute_result",
     "data": {
      "text/plain": [
       "OrderedDict([('one', 1), ('two', 2), ('three', 3)])"
      ]
     },
     "metadata": {},
     "execution_count": 4
    }
   ],
   "source": [
    "# To test the following code, use Python version < 3.6\n",
    "#\n",
    "numbers = OrderedDict({\"one\": 1, \"two\": 2, \"three\": 3})\n",
    "\n",
    "numbers"
   ]
  },
  {
   "cell_type": "code",
   "execution_count": 5,
   "metadata": {},
   "outputs": [
    {
     "output_type": "execute_result",
     "data": {
      "text/plain": [
       "OrderedDict([('one', 1), ('two', 2), ('three', 3)])"
      ]
     },
     "metadata": {},
     "execution_count": 5
    }
   ],
   "source": [
    "numbers = OrderedDict(one=1, two=2, three=3)\n",
    "\n",
    "numbers"
   ]
  },
  {
   "cell_type": "code",
   "execution_count": 6,
   "metadata": {},
   "outputs": [
    {
     "output_type": "execute_result",
     "data": {
      "text/plain": [
       "OrderedDict([('one', 0), ('two', 0), ('three', 0)])"
      ]
     },
     "metadata": {},
     "execution_count": 6
    }
   ],
   "source": [
    "keys = [\"one\", \"two\", \"three\"]\n",
    "OrderedDict.fromkeys(keys, 0)"
   ]
  },
  {
   "source": [
    "### Manage Items in an OrderedDict"
   ],
   "cell_type": "markdown",
   "metadata": {}
  },
  {
   "cell_type": "code",
   "execution_count": 8,
   "metadata": {},
   "outputs": [
    {
     "output_type": "execute_result",
     "data": {
      "text/plain": [
       "OrderedDict([('one', 1), ('two', 2), ('three', 3)])"
      ]
     },
     "metadata": {},
     "execution_count": 8
    }
   ],
   "source": [
    "numbers = OrderedDict(one=1, two=2, three=3)\n",
    "numbers"
   ]
  },
  {
   "cell_type": "code",
   "execution_count": 9,
   "metadata": {},
   "outputs": [
    {
     "output_type": "execute_result",
     "data": {
      "text/plain": [
       "OrderedDict([('one', 1), ('two', 2), ('three', 3), ('four', 4)])"
      ]
     },
     "metadata": {},
     "execution_count": 9
    }
   ],
   "source": [
    "numbers[\"four\"] = 4\n",
    "numbers"
   ]
  },
  {
   "cell_type": "code",
   "execution_count": 10,
   "metadata": {},
   "outputs": [
    {
     "output_type": "execute_result",
     "data": {
      "text/plain": [
       "OrderedDict([('two', 2), ('three', 3), ('four', 4)])"
      ]
     },
     "metadata": {},
     "execution_count": 10
    }
   ],
   "source": [
    "del numbers[\"one\"]\n",
    "numbers"
   ]
  },
  {
   "cell_type": "code",
   "execution_count": 11,
   "metadata": {},
   "outputs": [
    {
     "output_type": "execute_result",
     "data": {
      "text/plain": [
       "OrderedDict([('two', 2), ('three', 3), ('four', 4), ('one', 1)])"
      ]
     },
     "metadata": {},
     "execution_count": 11
    }
   ],
   "source": [
    "numbers[\"one\"] = 1\n",
    "numbers"
   ]
  },
  {
   "cell_type": "code",
   "execution_count": 13,
   "metadata": {},
   "outputs": [
    {
     "output_type": "execute_result",
     "data": {
      "text/plain": [
       "OrderedDict([('one', 1.0), ('two', 2), ('three', 3)])"
      ]
     },
     "metadata": {},
     "execution_count": 13
    }
   ],
   "source": [
    "numbers = OrderedDict(one=1, two=2, three=3)\n",
    "\n",
    "numbers[\"one\"] = 1.0\n",
    "numbers"
   ]
  },
  {
   "cell_type": "code",
   "execution_count": 14,
   "metadata": {},
   "outputs": [
    {
     "output_type": "execute_result",
     "data": {
      "text/plain": [
       "OrderedDict([('one', 1.0), ('two', 2.0), ('three', 3)])"
      ]
     },
     "metadata": {},
     "execution_count": 14
    }
   ],
   "source": [
    "numbers.update(two=2.0)\n",
    "numbers"
   ]
  },
  {
   "source": [
    "### Iterating Over an OrderedDict"
   ],
   "cell_type": "markdown",
   "metadata": {}
  },
  {
   "cell_type": "code",
   "execution_count": 17,
   "metadata": {},
   "outputs": [
    {
     "output_type": "stream",
     "name": "stdout",
     "text": [
      "one  ->  1\ntwo  ->  2\nthree  ->  3\n"
     ]
    }
   ],
   "source": [
    "numbers = OrderedDict(one=1, two=2, three=3)\n",
    "\n",
    "# Iterate over the keys directly\n",
    "#\n",
    "for key in numbers:\n",
    "\n",
    "    print(key, \" -> \", numbers[key])"
   ]
  },
  {
   "cell_type": "code",
   "execution_count": 18,
   "metadata": {},
   "outputs": [
    {
     "output_type": "stream",
     "name": "stdout",
     "text": [
      "one  -> 1\ntwo  -> 2\nthree  -> 3\n"
     ]
    }
   ],
   "source": [
    "# Iterate over the items using .items()\n",
    "#\n",
    "for key, value in numbers.items():\n",
    "\n",
    "    print(key, \" ->\", value)"
   ]
  },
  {
   "cell_type": "code",
   "execution_count": 19,
   "metadata": {},
   "outputs": [
    {
     "output_type": "stream",
     "name": "stdout",
     "text": [
      "one  ->  1\ntwo  ->  2\nthree  ->  3\n"
     ]
    }
   ],
   "source": [
    "# Iterate over the keys using .keys()\n",
    "#\n",
    "for key in numbers.keys():\n",
    "\n",
    "    print(key, \" -> \", numbers[key])\n"
   ]
  },
  {
   "cell_type": "code",
   "execution_count": 21,
   "metadata": {},
   "outputs": [
    {
     "output_type": "stream",
     "name": "stdout",
     "text": [
      "1\n2\n3\n"
     ]
    }
   ],
   "source": [
    "# Iterate over the values using .values()\n",
    "#\n",
    "for value in numbers.values():\n",
    "\n",
    "    print(value)"
   ]
  },
  {
   "source": [
    "### Iterating in Reversed Order With reversed()"
   ],
   "cell_type": "markdown",
   "metadata": {}
  },
  {
   "cell_type": "code",
   "execution_count": 22,
   "metadata": {},
   "outputs": [
    {
     "output_type": "stream",
     "name": "stdout",
     "text": [
      "three  ->  3\ntwo  ->  2\none  ->  1\n"
     ]
    }
   ],
   "source": [
    "numbers = OrderedDict(one=1, two=2, three=3)\n",
    "\n",
    "# Iterate over the keys directly\n",
    "#\n",
    "for key in reversed(numbers):\n",
    "\n",
    "    print(key, \" -> \", numbers[key])"
   ]
  },
  {
   "cell_type": "code",
   "execution_count": 23,
   "metadata": {},
   "outputs": [
    {
     "output_type": "stream",
     "name": "stdout",
     "text": [
      "three  ->  3\ntwo  ->  2\none  ->  1\n"
     ]
    }
   ],
   "source": [
    "# Iterate over the items in reverse order\n",
    "#\n",
    "for key, value in reversed(numbers.items()):\n",
    "\n",
    "    print(key, \" -> \", value)"
   ]
  },
  {
   "cell_type": "code",
   "execution_count": 24,
   "metadata": {},
   "outputs": [
    {
     "output_type": "stream",
     "name": "stdout",
     "text": [
      "three  ->  3\ntwo  ->  2\none  ->  1\n"
     ]
    }
   ],
   "source": [
    "# Iterate over the keys in reverse order\n",
    "#\n",
    "for key in reversed(numbers.keys()):\n",
    "\n",
    "    print(key, \" -> \", numbers[key])"
   ]
  },
  {
   "cell_type": "code",
   "execution_count": 25,
   "metadata": {},
   "outputs": [
    {
     "output_type": "stream",
     "name": "stdout",
     "text": [
      "3\n2\n1\n"
     ]
    }
   ],
   "source": [
    "# Iterate over the values in reverse order\n",
    "#\n",
    "for value in reversed(numbers.values()):\n",
    "\n",
    "    print(value)"
   ]
  },
  {
   "cell_type": "code",
   "execution_count": null,
   "metadata": {},
   "outputs": [],
   "source": [
    "# To try this code, use Python version < 3.8.\n",
    "# (You'll get an error)\n",
    "#\n",
    "numbers = dict(one=1, two=2, three=3)\n",
    "\n",
    "for keys in reversed(numbers):\n",
    "\n",
    "    print(key)"
   ]
  },
  {
   "source": [
    "## Exploring Unique Features of Python's OrderedDict"
   ],
   "cell_type": "markdown",
   "metadata": {}
  },
  {
   "source": [
    "### Reordering Items With .move_to_end()"
   ],
   "cell_type": "markdown",
   "metadata": {}
  },
  {
   "cell_type": "code",
   "execution_count": 27,
   "metadata": {},
   "outputs": [
    {
     "output_type": "execute_result",
     "data": {
      "text/plain": [
       "OrderedDict([('one', 1), ('two', 2), ('three', 3)])"
      ]
     },
     "metadata": {},
     "execution_count": 27
    }
   ],
   "source": [
    "numbers = OrderedDict(one=1, two=2, three=3)\n",
    "numbers"
   ]
  },
  {
   "cell_type": "code",
   "execution_count": 28,
   "metadata": {},
   "outputs": [
    {
     "output_type": "execute_result",
     "data": {
      "text/plain": [
       "OrderedDict([('two', 2), ('three', 3), ('one', 1)])"
      ]
     },
     "metadata": {},
     "execution_count": 28
    }
   ],
   "source": [
    "numbers.move_to_end(\"one\")\n",
    "numbers"
   ]
  },
  {
   "cell_type": "code",
   "execution_count": 29,
   "metadata": {},
   "outputs": [
    {
     "output_type": "execute_result",
     "data": {
      "text/plain": [
       "OrderedDict([('one', 1), ('two', 2), ('three', 3)])"
      ]
     },
     "metadata": {},
     "execution_count": 29
    }
   ],
   "source": [
    "numbers.move_to_end(\"one\", last=False)\n",
    "numbers"
   ]
  },
  {
   "cell_type": "code",
   "execution_count": 30,
   "metadata": {},
   "outputs": [
    {
     "output_type": "execute_result",
     "data": {
      "text/plain": [
       "OrderedDict([('a', 1), ('b', 2), ('c', 3), ('d', 4)])"
      ]
     },
     "metadata": {},
     "execution_count": 30
    }
   ],
   "source": [
    "letters = OrderedDict(b=2, d=4, a=1, c=3)\n",
    "\n",
    "for key in sorted(letters):\n",
    "\n",
    "    letters.move_to_end(key)\n",
    "\n",
    "letters"
   ]
  },
  {
   "cell_type": "code",
   "execution_count": 36,
   "metadata": {},
   "outputs": [
    {
     "output_type": "execute_result",
     "data": {
      "text/plain": [
       "OrderedDict([('d', 1), ('c', 2), ('b', 3), ('a', 4)])"
      ]
     },
     "metadata": {},
     "execution_count": 36
    }
   ],
   "source": [
    "letters = OrderedDict(a=4, b=3, d=1, c=2)\n",
    "\n",
    "for key, _ in sorted(letters.items(), key=lambda item: item[1]):\n",
    "\n",
    "    letters.move_to_end(key)\n",
    "\n",
    "letters    "
   ]
  },
  {
   "source": [
    "### Removing Items with .popitem()"
   ],
   "cell_type": "markdown",
   "metadata": {}
  },
  {
   "cell_type": "code",
   "execution_count": 37,
   "metadata": {},
   "outputs": [
    {
     "output_type": "execute_result",
     "data": {
      "text/plain": [
       "('three', 3)"
      ]
     },
     "metadata": {},
     "execution_count": 37
    }
   ],
   "source": [
    "numbers = OrderedDict(one=1, two=2, three=3)\n",
    "numbers.popitem()"
   ]
  },
  {
   "cell_type": "code",
   "execution_count": 38,
   "metadata": {},
   "outputs": [
    {
     "output_type": "execute_result",
     "data": {
      "text/plain": [
       "('two', 2)"
      ]
     },
     "metadata": {},
     "execution_count": 38
    }
   ],
   "source": [
    "numbers.popitem()"
   ]
  },
  {
   "cell_type": "code",
   "execution_count": 39,
   "metadata": {},
   "outputs": [
    {
     "output_type": "execute_result",
     "data": {
      "text/plain": [
       "('one', 1)"
      ]
     },
     "metadata": {},
     "execution_count": 39
    }
   ],
   "source": [
    "numbers.popitem()"
   ]
  },
  {
   "cell_type": "code",
   "execution_count": 40,
   "metadata": {},
   "outputs": [
    {
     "output_type": "error",
     "ename": "KeyError",
     "evalue": "'dictionary is empty'",
     "traceback": [
      "\u001b[1;31m---------------------------------------------------------------------------\u001b[0m",
      "\u001b[1;31mKeyError\u001b[0m                                  Traceback (most recent call last)",
      "\u001b[1;32m<ipython-input-40-3c2af5997708>\u001b[0m in \u001b[0;36m<module>\u001b[1;34m\u001b[0m\n\u001b[1;32m----> 1\u001b[1;33m \u001b[0mnumbers\u001b[0m\u001b[1;33m.\u001b[0m\u001b[0mpopitem\u001b[0m\u001b[1;33m(\u001b[0m\u001b[1;33m)\u001b[0m\u001b[1;33m\u001b[0m\u001b[1;33m\u001b[0m\u001b[0m\n\u001b[0m",
      "\u001b[1;31mKeyError\u001b[0m: 'dictionary is empty'"
     ]
    }
   ],
   "source": [
    "numbers.popitem()"
   ]
  },
  {
   "cell_type": "code",
   "execution_count": 41,
   "metadata": {},
   "outputs": [
    {
     "output_type": "execute_result",
     "data": {
      "text/plain": [
       "('one', 1)"
      ]
     },
     "metadata": {},
     "execution_count": 41
    }
   ],
   "source": [
    "numbers = OrderedDict(one=1, two=2, three=3)\n",
    "numbers.popitem(last=False)"
   ]
  },
  {
   "cell_type": "code",
   "execution_count": 42,
   "metadata": {},
   "outputs": [
    {
     "output_type": "execute_result",
     "data": {
      "text/plain": [
       "('two', 2)"
      ]
     },
     "metadata": {},
     "execution_count": 42
    }
   ],
   "source": [
    "numbers.popitem(last=False)"
   ]
  },
  {
   "cell_type": "code",
   "execution_count": 43,
   "metadata": {},
   "outputs": [
    {
     "output_type": "execute_result",
     "data": {
      "text/plain": [
       "('three', 3)"
      ]
     },
     "metadata": {},
     "execution_count": 43
    }
   ],
   "source": [
    "numbers.popitem(last=False)"
   ]
  },
  {
   "cell_type": "code",
   "execution_count": 44,
   "metadata": {},
   "outputs": [
    {
     "output_type": "error",
     "ename": "KeyError",
     "evalue": "'dictionary is empty'",
     "traceback": [
      "\u001b[1;31m---------------------------------------------------------------------------\u001b[0m",
      "\u001b[1;31mKeyError\u001b[0m                                  Traceback (most recent call last)",
      "\u001b[1;32m<ipython-input-44-9b38b06401de>\u001b[0m in \u001b[0;36m<module>\u001b[1;34m\u001b[0m\n\u001b[1;32m----> 1\u001b[1;33m \u001b[0mnumbers\u001b[0m\u001b[1;33m.\u001b[0m\u001b[0mpopitem\u001b[0m\u001b[1;33m(\u001b[0m\u001b[0mlast\u001b[0m\u001b[1;33m=\u001b[0m\u001b[1;32mFalse\u001b[0m\u001b[1;33m)\u001b[0m\u001b[1;33m\u001b[0m\u001b[1;33m\u001b[0m\u001b[0m\n\u001b[0m",
      "\u001b[1;31mKeyError\u001b[0m: 'dictionary is empty'"
     ]
    }
   ],
   "source": [
    "numbers.popitem(last=False)"
   ]
  },
  {
   "source": [
    "### Testing for Equality Between Dictionaries"
   ],
   "cell_type": "markdown",
   "metadata": {}
  },
  {
   "cell_type": "code",
   "execution_count": 45,
   "metadata": {},
   "outputs": [],
   "source": [
    "letters_0 = OrderedDict(a=1, b=2, c=3, d=4)\n",
    "letters_1 = OrderedDict(b=2, a=1, c=3, d=4)\n",
    "letters_2 = OrderedDict(a=1, b=2, c=3, d=4)"
   ]
  },
  {
   "cell_type": "code",
   "execution_count": 46,
   "metadata": {},
   "outputs": [
    {
     "output_type": "execute_result",
     "data": {
      "text/plain": [
       "False"
      ]
     },
     "metadata": {},
     "execution_count": 46
    }
   ],
   "source": [
    "letters_0 == letters_1"
   ]
  },
  {
   "cell_type": "code",
   "execution_count": 47,
   "metadata": {},
   "outputs": [
    {
     "output_type": "execute_result",
     "data": {
      "text/plain": [
       "True"
      ]
     },
     "metadata": {},
     "execution_count": 47
    }
   ],
   "source": [
    "letters_0 == letters_2"
   ]
  },
  {
   "cell_type": "code",
   "execution_count": 48,
   "metadata": {},
   "outputs": [],
   "source": [
    "# Using regular dictionaries.\n",
    "#\n",
    "letters_0 = dict(a=1, b=2, c=3, d=4)\n",
    "letters_1 = dict(b=2, a=1, c=3, d=4)\n",
    "letters_2 = dict(a=1, b=2, c=3, d=4)"
   ]
  },
  {
   "cell_type": "code",
   "execution_count": 49,
   "metadata": {},
   "outputs": [
    {
     "output_type": "execute_result",
     "data": {
      "text/plain": [
       "True"
      ]
     },
     "metadata": {},
     "execution_count": 49
    }
   ],
   "source": [
    "letters_0 == letters_1"
   ]
  },
  {
   "cell_type": "code",
   "execution_count": 50,
   "metadata": {},
   "outputs": [
    {
     "output_type": "execute_result",
     "data": {
      "text/plain": [
       "True"
      ]
     },
     "metadata": {},
     "execution_count": 50
    }
   ],
   "source": [
    "letters_0 == letters_2"
   ]
  },
  {
   "cell_type": "code",
   "execution_count": 51,
   "metadata": {},
   "outputs": [
    {
     "output_type": "execute_result",
     "data": {
      "text/plain": [
       "True"
      ]
     },
     "metadata": {},
     "execution_count": 51
    }
   ],
   "source": [
    "letters_0 == letters_1 == letters_2"
   ]
  },
  {
   "cell_type": "code",
   "execution_count": 52,
   "metadata": {},
   "outputs": [],
   "source": [
    "# Comparing OrderedDict with regular dict.\n",
    "#\n",
    "letters_0 = OrderedDict(a=1, b=2, c=3, d=4)\n",
    "letters_1 = dict(b=2, a=1, c=3, d=4)"
   ]
  },
  {
   "cell_type": "code",
   "execution_count": 53,
   "metadata": {},
   "outputs": [
    {
     "output_type": "execute_result",
     "data": {
      "text/plain": [
       "True"
      ]
     },
     "metadata": {},
     "execution_count": 53
    }
   ],
   "source": [
    "letters_0 == letters_1"
   ]
  },
  {
   "source": [
    "### Appending New Attributes to a Dictionary Instance"
   ],
   "cell_type": "markdown",
   "metadata": {}
  },
  {
   "cell_type": "code",
   "execution_count": 56,
   "metadata": {},
   "outputs": [
    {
     "output_type": "execute_result",
     "data": {
      "text/plain": [
       "{}"
      ]
     },
     "metadata": {},
     "execution_count": 56
    }
   ],
   "source": [
    "letters_0 = OrderedDict(b=2, d=4, a=1, c=3)\n",
    "letters.__dict__"
   ]
  },
  {
   "cell_type": "code",
   "execution_count": 58,
   "metadata": {},
   "outputs": [
    {
     "output_type": "error",
     "ename": "AttributeError",
     "evalue": "'dict' object has no attribute '__dict__'",
     "traceback": [
      "\u001b[1;31m---------------------------------------------------------------------------\u001b[0m",
      "\u001b[1;31mAttributeError\u001b[0m                            Traceback (most recent call last)",
      "\u001b[1;32m<ipython-input-58-01d6ce451877>\u001b[0m in \u001b[0;36m<module>\u001b[1;34m\u001b[0m\n\u001b[0;32m      1\u001b[0m \u001b[0mletters1\u001b[0m \u001b[1;33m=\u001b[0m \u001b[0mdict\u001b[0m\u001b[1;33m(\u001b[0m\u001b[0mb\u001b[0m\u001b[1;33m=\u001b[0m\u001b[1;36m2\u001b[0m\u001b[1;33m,\u001b[0m \u001b[0md\u001b[0m\u001b[1;33m=\u001b[0m\u001b[1;36m4\u001b[0m\u001b[1;33m,\u001b[0m \u001b[0ma\u001b[0m\u001b[1;33m=\u001b[0m\u001b[1;36m1\u001b[0m\u001b[1;33m,\u001b[0m \u001b[0mc\u001b[0m\u001b[1;33m=\u001b[0m\u001b[1;36m3\u001b[0m\u001b[1;33m)\u001b[0m\u001b[1;33m\u001b[0m\u001b[1;33m\u001b[0m\u001b[0m\n\u001b[1;32m----> 2\u001b[1;33m \u001b[0mletters1\u001b[0m\u001b[1;33m.\u001b[0m\u001b[0m__dict__\u001b[0m\u001b[1;33m\u001b[0m\u001b[1;33m\u001b[0m\u001b[0m\n\u001b[0m",
      "\u001b[1;31mAttributeError\u001b[0m: 'dict' object has no attribute '__dict__'"
     ]
    }
   ],
   "source": [
    "letters1 = dict(b=2, d=4, a=1, c=3)\n",
    "letters1.__dict__"
   ]
  },
  {
   "cell_type": "code",
   "execution_count": 59,
   "metadata": {},
   "outputs": [
    {
     "output_type": "execute_result",
     "data": {
      "text/plain": [
       "{'sorted_keys': <function __main__.<lambda>()>}"
      ]
     },
     "metadata": {},
     "execution_count": 59
    }
   ],
   "source": [
    "letters = OrderedDict(b=2, d=4, a=1, c=3)\n",
    "\n",
    "letters.sorted_keys = lambda: sorted(letters.keys())\n",
    "vars(letters)"
   ]
  },
  {
   "cell_type": "code",
   "execution_count": 60,
   "metadata": {},
   "outputs": [
    {
     "output_type": "execute_result",
     "data": {
      "text/plain": [
       "['a', 'b', 'c', 'd']"
      ]
     },
     "metadata": {},
     "execution_count": 60
    }
   ],
   "source": [
    "letters.sorted_keys()"
   ]
  },
  {
   "cell_type": "code",
   "execution_count": 61,
   "metadata": {},
   "outputs": [
    {
     "output_type": "execute_result",
     "data": {
      "text/plain": [
       "['a', 'b', 'c', 'd', 'e']"
      ]
     },
     "metadata": {},
     "execution_count": 61
    }
   ],
   "source": [
    "letters[\"e\"] = 5\n",
    "letters.sorted_keys()"
   ]
  },
  {
   "cell_type": "code",
   "execution_count": 62,
   "metadata": {},
   "outputs": [
    {
     "output_type": "stream",
     "name": "stdout",
     "text": [
      "a  ->  1\nb  ->  2\nc  ->  3\nd  ->  4\ne  ->  5\n"
     ]
    },
    {
     "output_type": "execute_result",
     "data": {
      "text/plain": [
       "OrderedDict([('b', 2), ('d', 4), ('a', 1), ('c', 3), ('e', 5)])"
      ]
     },
     "metadata": {},
     "execution_count": 62
    }
   ],
   "source": [
    "for key in letters.sorted_keys():\n",
    "\n",
    "    print(key, \" -> \", letters[key])\n",
    "\n",
    "letters"
   ]
  },
  {
   "cell_type": "code",
   "execution_count": 63,
   "metadata": {},
   "outputs": [
    {
     "output_type": "error",
     "ename": "AttributeError",
     "evalue": "'dict' object has no attribute 'sorted_keys'",
     "traceback": [
      "\u001b[1;31m---------------------------------------------------------------------------\u001b[0m",
      "\u001b[1;31mAttributeError\u001b[0m                            Traceback (most recent call last)",
      "\u001b[1;32m<ipython-input-63-bf3b5c558922>\u001b[0m in \u001b[0;36m<module>\u001b[1;34m\u001b[0m\n\u001b[0;32m      2\u001b[0m \u001b[1;31m#\u001b[0m\u001b[1;33m\u001b[0m\u001b[1;33m\u001b[0m\u001b[1;33m\u001b[0m\u001b[0m\n\u001b[0;32m      3\u001b[0m \u001b[0mletters\u001b[0m \u001b[1;33m=\u001b[0m \u001b[0mdict\u001b[0m\u001b[1;33m(\u001b[0m\u001b[0mb\u001b[0m\u001b[1;33m=\u001b[0m\u001b[1;36m2\u001b[0m\u001b[1;33m,\u001b[0m \u001b[0md\u001b[0m\u001b[1;33m=\u001b[0m\u001b[1;36m4\u001b[0m\u001b[1;33m,\u001b[0m \u001b[0ma\u001b[0m\u001b[1;33m=\u001b[0m\u001b[1;36m1\u001b[0m\u001b[1;33m,\u001b[0m \u001b[0mc\u001b[0m\u001b[1;33m=\u001b[0m\u001b[1;36m3\u001b[0m\u001b[1;33m)\u001b[0m\u001b[1;33m\u001b[0m\u001b[1;33m\u001b[0m\u001b[0m\n\u001b[1;32m----> 4\u001b[1;33m \u001b[0mletters\u001b[0m\u001b[1;33m.\u001b[0m\u001b[0msorted_keys\u001b[0m \u001b[1;33m=\u001b[0m \u001b[1;32mlambda\u001b[0m\u001b[1;33m:\u001b[0m \u001b[0msorted\u001b[0m\u001b[1;33m(\u001b[0m\u001b[0mletters\u001b[0m\u001b[1;33m.\u001b[0m\u001b[0mkeys\u001b[0m\u001b[1;33m(\u001b[0m\u001b[1;33m)\u001b[0m\u001b[1;33m)\u001b[0m\u001b[1;33m\u001b[0m\u001b[1;33m\u001b[0m\u001b[0m\n\u001b[0m",
      "\u001b[1;31mAttributeError\u001b[0m: 'dict' object has no attribute 'sorted_keys'"
     ]
    }
   ],
   "source": [
    "# This code will throw an error with regular dicts.\n",
    "#\n",
    "letters = dict(b=2, d=4, a=1, c=3)\n",
    "letters.sorted_keys = lambda: sorted(letters.keys())"
   ]
  },
  {
   "source": [
    "## Merging and Updating Dictionaries with Operators"
   ],
   "cell_type": "markdown",
   "metadata": {}
  },
  {
   "cell_type": "code",
   "execution_count": 64,
   "metadata": {},
   "outputs": [
    {
     "output_type": "execute_result",
     "data": {
      "text/plain": [
       "OrderedDict([('newton', '1642-1726'),\n",
       "             ('einstein', '1879-1955'),\n",
       "             ('darwin', '1809-1882'),\n",
       "             ('mendel', '1822-1884')])"
      ]
     },
     "metadata": {},
     "execution_count": 64
    }
   ],
   "source": [
    "physicists = OrderedDict(newton=\"1642-1726\", einstein=\"1879-1955\")\n",
    "biologists = OrderedDict(darwin=\"1809-1882\", mendel=\"1822-1884\")\n",
    "\n",
    "scientists = physicists | biologists\n",
    "scientists"
   ]
  },
  {
   "cell_type": "code",
   "execution_count": 65,
   "metadata": {},
   "outputs": [
    {
     "output_type": "execute_result",
     "data": {
      "text/plain": [
       "OrderedDict([('newton', '1642-1726/1727'),\n",
       "             ('einstein', '1879-1955'),\n",
       "             ('hawking', '1942-2018')])"
      ]
     },
     "metadata": {},
     "execution_count": 65
    }
   ],
   "source": [
    "physicists = OrderedDict(newton=\"1642-1726\", einstein=\"1879-1955\")\n",
    "\n",
    "physicists_1 = OrderedDict(newton=\"1642-1726/1727\", hawking=\"1942-2018\")\n",
    "\n",
    "physicists |= physicists_1\n",
    "\n",
    "physicists"
   ]
  },
  {
   "source": [
    "## Considering Performance"
   ],
   "cell_type": "markdown",
   "metadata": {}
  },
  {
   "cell_type": "code",
   "execution_count": 67,
   "metadata": {},
   "outputs": [],
   "source": [
    "# See time_testin.py script"
   ]
  },
  {
   "cell_type": "code",
   "execution_count": null,
   "metadata": {},
   "outputs": [],
   "source": []
  }
 ]
}