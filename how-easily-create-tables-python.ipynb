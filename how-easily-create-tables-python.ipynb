{
 "metadata": {
  "language_info": {
   "codemirror_mode": {
    "name": "ipython",
    "version": 3
   },
   "file_extension": ".py",
   "mimetype": "text/x-python",
   "name": "python",
   "nbconvert_exporter": "python",
   "pygments_lexer": "ipython3",
   "version": "3.9.2-final"
  },
  "orig_nbformat": 2,
  "kernelspec": {
   "name": "python3",
   "display_name": "Python 3.9.2 64-bit ('data-work': conda)",
   "metadata": {
    "interpreter": {
     "hash": "1aa1da17df1d5a4132aadaa5b67428872f4abd8dce50afc54c7ac2c7fcce2e98"
    }
   }
  }
 },
 "nbformat": 4,
 "nbformat_minor": 2,
 "cells": [
  {
   "source": [
    "# How to Easily Create Tables in Python\n",
    "\n",
    "Source code from Medium's article [How to Easily Create Tables in Python](https://towardsdatascience.com/how-to-easily-create-tables-in-python-2eaea447d8fd) written by [Luay Matalka](https://medium.com/@lmatalka90)."
   ],
   "cell_type": "markdown",
   "metadata": {}
  },
  {
   "source": [
    "## Importing libraries"
   ],
   "cell_type": "markdown",
   "metadata": {}
  },
  {
   "cell_type": "code",
   "execution_count": 1,
   "metadata": {},
   "outputs": [],
   "source": [
    "from tabulate import tabulate"
   ]
  },
  {
   "source": [
    "## List of lists"
   ],
   "cell_type": "markdown",
   "metadata": {}
  },
  {
   "cell_type": "code",
   "execution_count": 2,
   "metadata": {},
   "outputs": [
    {
     "output_type": "stream",
     "name": "stdout",
     "text": [
      "---------  ---------  ---\nFirst Nme  Last Name  Age\nJohn       Smith      39\nMary       Jane       25\nJennifer   Doe        28\n---------  ---------  ---\n"
     ]
    }
   ],
   "source": [
    "table = [['First Nme', 'Last Name', 'Age'], \n",
    "         ['John', 'Smith', 39],\n",
    "         ['Mary', 'Jane', 25],\n",
    "         ['Jennifer', 'Doe', 28]]\n",
    "\n",
    "print(tabulate(table))"
   ]
  },
  {
   "cell_type": "code",
   "execution_count": 3,
   "metadata": {},
   "outputs": [
    {
     "output_type": "stream",
     "name": "stdout",
     "text": [
      "First Nme    Last Name      Age\n-----------  -----------  -----\nJohn         Smith           39\nMary         Jane            25\nJennifer     Doe             28\n"
     ]
    }
   ],
   "source": [
    "print(tabulate(table, headers='firstrow'))"
   ]
  },
  {
   "cell_type": "code",
   "execution_count": 4,
   "metadata": {},
   "outputs": [
    {
     "output_type": "stream",
     "name": "stdout",
     "text": [
      "+-------------+-------------+-------+\n| First Nme   | Last Name   |   Age |\n+=============+=============+=======+\n| John        | Smith       |    39 |\n+-------------+-------------+-------+\n| Mary        | Jane        |    25 |\n+-------------+-------------+-------+\n| Jennifer    | Doe         |    28 |\n+-------------+-------------+-------+\n"
     ]
    }
   ],
   "source": [
    "print(tabulate(table, headers='firstrow', tablefmt='grid'))"
   ]
  },
  {
   "cell_type": "code",
   "execution_count": 5,
   "metadata": {},
   "outputs": [
    {
     "output_type": "stream",
     "name": "stdout",
     "text": [
      "╒═════════════╤═════════════╤═══════╕\n│ First Nme   │ Last Name   │   Age │\n╞═════════════╪═════════════╪═══════╡\n│ John        │ Smith       │    39 │\n├─────────────┼─────────────┼───────┤\n│ Mary        │ Jane        │    25 │\n├─────────────┼─────────────┼───────┤\n│ Jennifer    │ Doe         │    28 │\n╘═════════════╧═════════════╧═══════╛\n"
     ]
    }
   ],
   "source": [
    "print(tabulate(table, headers='firstrow', tablefmt='fancy_grid'))"
   ]
  },
  {
   "source": [
    "## Dictionary of iterables"
   ],
   "cell_type": "markdown",
   "metadata": {}
  },
  {
   "cell_type": "code",
   "execution_count": 7,
   "metadata": {},
   "outputs": [
    {
     "output_type": "stream",
     "name": "stdout",
     "text": [
      "First Name    Last Name      Age\n------------  -----------  -----\nJohn          Smith           39\nMary          Jane            25\nJennifer      Doe             28\n"
     ]
    }
   ],
   "source": [
    "info = {\"First Name\": ['John', 'Mary', 'Jennifer'],\n",
    "        \"Last Name\": ['Smith', 'Jane', 'Doe'],\n",
    "        \"Age\": [39, 25, 28]}\n",
    "\n",
    "print(tabulate(info, headers='keys'))"
   ]
  },
  {
   "cell_type": "code",
   "execution_count": 8,
   "metadata": {},
   "outputs": [
    {
     "output_type": "stream",
     "name": "stdout",
     "text": [
      "╒══════════════╤═════════════╤═══════╕\n│ First Name   │ Last Name   │   Age │\n╞══════════════╪═════════════╪═══════╡\n│ John         │ Smith       │    39 │\n├──────────────┼─────────────┼───────┤\n│ Mary         │ Jane        │    25 │\n├──────────────┼─────────────┼───────┤\n│ Jennifer     │ Doe         │    28 │\n╘══════════════╧═════════════╧═══════╛\n"
     ]
    }
   ],
   "source": [
    "print(tabulate(info, headers='keys', tablefmt='fancy_grid'))"
   ]
  },
  {
   "source": [
    "## Adding an index"
   ],
   "cell_type": "markdown",
   "metadata": {}
  },
  {
   "cell_type": "code",
   "execution_count": 9,
   "metadata": {},
   "outputs": [
    {
     "output_type": "stream",
     "name": "stdout",
     "text": [
      "╒════╤══════════════╤═════════════╤═══════╕\n│    │ First Name   │ Last Name   │   Age │\n╞════╪══════════════╪═════════════╪═══════╡\n│  0 │ John         │ Smith       │    39 │\n├────┼──────────────┼─────────────┼───────┤\n│  1 │ Mary         │ Jane        │    25 │\n├────┼──────────────┼─────────────┼───────┤\n│  2 │ Jennifer     │ Doe         │    28 │\n╘════╧══════════════╧═════════════╧═══════╛\n"
     ]
    }
   ],
   "source": [
    "print(tabulate(info, headers='keys', tablefmt='fancy_grid', showindex=True))"
   ]
  },
  {
   "cell_type": "code",
   "execution_count": 10,
   "metadata": {},
   "outputs": [
    {
     "output_type": "stream",
     "name": "stdout",
     "text": [
      "╒════╤══════════════╤═════════════╤═══════╕\n│    │ First Name   │ Last Name   │   Age │\n╞════╪══════════════╪═════════════╪═══════╡\n│  1 │ John         │ Smith       │    39 │\n├────┼──────────────┼─────────────┼───────┤\n│  2 │ Mary         │ Jane        │    25 │\n├────┼──────────────┼─────────────┼───────┤\n│  3 │ Jennifer     │ Doe         │    28 │\n╘════╧══════════════╧═════════════╧═══════╛\n"
     ]
    }
   ],
   "source": [
    "print(tabulate(info, headers='keys', tablefmt='fancy_grid', showindex=range(1, 4)))"
   ]
  },
  {
   "source": [
    "## Missing values"
   ],
   "cell_type": "markdown",
   "metadata": {}
  },
  {
   "cell_type": "code",
   "execution_count": 12,
   "metadata": {},
   "outputs": [
    {
     "output_type": "stream",
     "name": "stdout",
     "text": [
      "╒══════════════╤═════════════╤═══════╕\n│ First Name   │ Last Name   │   Age │\n╞══════════════╪═════════════╪═══════╡\n│ John         │ Smith       │    39 │\n├──────────────┼─────────────┼───────┤\n│ Mary         │ Jane        │    25 │\n├──────────────┼─────────────┼───────┤\n│              │ Doe         │    28 │\n╘══════════════╧═════════════╧═══════╛\n"
     ]
    }
   ],
   "source": [
    "info = {\"First Name\": ['John', 'Mary'],\n",
    "        \"Last Name\": ['Smith', 'Jane', 'Doe'],\n",
    "        \"Age\": [39, 25, 28]}\n",
    "\n",
    "print(tabulate(info, headers='keys', tablefmt='fancy_grid'))"
   ]
  },
  {
   "cell_type": "code",
   "execution_count": 13,
   "metadata": {},
   "outputs": [
    {
     "output_type": "stream",
     "name": "stdout",
     "text": [
      "╒══════════════╤═════════════╤═══════╕\n│ First Name   │ Last Name   │   Age │\n╞══════════════╪═════════════╪═══════╡\n│ John         │ Smith       │    39 │\n├──────────────┼─────────────┼───────┤\n│ Mary         │ Jane        │    25 │\n├──────────────┼─────────────┼───────┤\n│ N/A          │ Doe         │    28 │\n╘══════════════╧═════════════╧═══════╛\n"
     ]
    }
   ],
   "source": [
    "print(tabulate(info, headers='keys', tablefmt='fancy_grid', missingval='N/A'))"
   ]
  },
  {
   "cell_type": "code",
   "execution_count": null,
   "metadata": {},
   "outputs": [],
   "source": []
  }
 ]
}