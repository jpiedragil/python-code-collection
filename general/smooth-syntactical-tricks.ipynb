{
 "metadata": {
  "language_info": {
   "codemirror_mode": {
    "name": "ipython",
    "version": 3
   },
   "file_extension": ".py",
   "mimetype": "text/x-python",
   "name": "python",
   "nbconvert_exporter": "python",
   "pygments_lexer": "ipython3",
   "version": "3.8.5-final"
  },
  "orig_nbformat": 2,
  "kernelspec": {
   "name": "Python 3.8.5 64-bit ('jpnb_py38': conda)",
   "display_name": "Python 3.8.5 64-bit ('jpnb_py38': conda)",
   "metadata": {
    "interpreter": {
     "hash": "e3f3fa9d4fdda2eabf84dee4d27ca195d51f53512d8f999613188f187d95004e"
    }
   }
  }
 },
 "nbformat": 4,
 "nbformat_minor": 2,
 "cells": [
  {
   "source": [
    "# 5 Smooth Syntactical Tricks For Python\n",
    "\n",
    "Source code from Medium's article [\"5 Smooth Syntactical Tricks For Python\"](https://towardsdatascience.com/5-smooth-syntactical-tricks-for-python-61cd69663cc9) written by [Emmett Boudreau](https://towardsdatascience.com/@emmettgb)."
   ],
   "cell_type": "markdown",
   "metadata": {}
  },
  {
   "cell_type": "code",
   "execution_count": 17,
   "metadata": {},
   "outputs": [],
   "source": [
    "from collections import Counter"
   ]
  },
  {
   "source": [
    "# N°1: not"
   ],
   "cell_type": "markdown",
   "metadata": {}
  },
  {
   "cell_type": "code",
   "execution_count": null,
   "metadata": {},
   "outputs": [],
   "source": [
    "def toggle_switch(self):\n",
    "\n",
    "    if self.toggled == false:\n",
    "        \n",
    "        self.toggled = true\n",
    "    else:\n",
    "        \n",
    "        self.toggled = false"
   ]
  },
  {
   "cell_type": "code",
   "execution_count": null,
   "metadata": {},
   "outputs": [],
   "source": [
    "def toggle_switch(self):\n",
    "    \n",
    "    self.toggled = not self.toggled"
   ]
  },
  {
   "source": [
    "# N°2: Add/Subtract Assertion"
   ],
   "cell_type": "markdown",
   "metadata": {}
  },
  {
   "cell_type": "code",
   "execution_count": null,
   "metadata": {},
   "outputs": [],
   "source": [
    "\n",
    "newvar = newvar - 5\n",
    "\n",
    "newvar -= 5"
   ]
  },
  {
   "source": [
    "# N°3: Reversing A List"
   ],
   "cell_type": "markdown",
   "metadata": {}
  },
  {
   "cell_type": "code",
   "execution_count": 24,
   "metadata": {
    "tags": []
   },
   "outputs": [
    {
     "output_type": "stream",
     "name": "stdout",
     "text": "[15, 10, 5]\n"
    }
   ],
   "source": [
    "arr = [5, 10, 15]\n",
    "\n",
    "arr.reverse()\n",
    "\n",
    "print(arr)"
   ]
  },
  {
   "source": [
    "# N°4: Transposing Matrices"
   ],
   "cell_type": "markdown",
   "metadata": {}
  },
  {
   "cell_type": "code",
   "execution_count": 15,
   "metadata": {
    "tags": []
   },
   "outputs": [
    {
     "output_type": "stream",
     "name": "stdout",
     "text": "[(37, 48, 18), (22, 29, 12)]\n"
    }
   ],
   "source": [
    "x = [[37,22],\n",
    "     [48 ,29],\n",
    "     [18 ,12]]\n",
    "\n",
    "print(list(zip(*x)))"
   ]
  },
  {
   "source": [
    "# N°5: Variables in Series"
   ],
   "cell_type": "markdown",
   "metadata": {}
  },
  {
   "cell_type": "code",
   "execution_count": 13,
   "metadata": {
    "tags": []
   },
   "outputs": [
    {
     "output_type": "stream",
     "name": "stdout",
     "text": "8 5 9\n"
    }
   ],
   "source": [
    "a = 8\n",
    "b = 5\n",
    "c = 9\n",
    "\n",
    "print(a, b, c)"
   ]
  },
  {
   "cell_type": "code",
   "execution_count": 14,
   "metadata": {
    "tags": []
   },
   "outputs": [
    {
     "output_type": "stream",
     "name": "stdout",
     "text": "5 8 9\n"
    }
   ],
   "source": [
    "a, b, c = 5, 8, 9\n",
    "\n",
    "print(5, 8, 9)"
   ]
  },
  {
   "source": [
    "# N°6: (Bonus) Counter"
   ],
   "cell_type": "markdown",
   "metadata": {}
  },
  {
   "cell_type": "code",
   "execution_count": 18,
   "metadata": {
    "tags": []
   },
   "outputs": [
    {
     "output_type": "stream",
     "name": "stdout",
     "text": "Counter({3: 3, 4: 2, 2: 1})\n"
    }
   ],
   "source": [
    "lst = [4, 3, 3, 2, 4, 3]\n",
    "\n",
    "print(Counter(lst))"
   ]
  },
  {
   "cell_type": "code",
   "execution_count": null,
   "metadata": {},
   "outputs": [],
   "source": []
  }
 ]
}