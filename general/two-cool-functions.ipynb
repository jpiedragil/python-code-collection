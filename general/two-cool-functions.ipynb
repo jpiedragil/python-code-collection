{
 "metadata": {
  "language_info": {
   "codemirror_mode": {
    "name": "ipython",
    "version": 3
   },
   "file_extension": ".py",
   "mimetype": "text/x-python",
   "name": "python",
   "nbconvert_exporter": "python",
   "pygments_lexer": "ipython3",
   "version": "3.9.2-final"
  },
  "orig_nbformat": 2,
  "kernelspec": {
   "name": "python3",
   "display_name": "Python 3.9.2 64-bit ('data-work': conda)",
   "metadata": {
    "interpreter": {
     "hash": "1aa1da17df1d5a4132aadaa5b67428872f4abd8dce50afc54c7ac2c7fcce2e98"
    }
   }
  }
 },
 "nbformat": 4,
 "nbformat_minor": 2,
 "cells": [
  {
   "source": [
    "# Two Cool Functions To Know in Python\n",
    "\n",
    "Source code from Medium's article [Two Cool Functions To Know in Python](https://towardsdatascience.com/two-cool-functions-to-know-in-python-7c36da49f884), written by [Luay Matalka](https://medium.com/@lmatalka90)."
   ],
   "cell_type": "markdown",
   "metadata": {}
  },
  {
   "source": [
    "## Import libraries"
   ],
   "cell_type": "markdown",
   "metadata": {}
  },
  {
   "cell_type": "code",
   "execution_count": 1,
   "metadata": {},
   "outputs": [],
   "source": [
    "from tabulate import tabulate\n",
    "\n",
    "from tqdm import tqdm\n",
    "\n",
    "# TODO: Find correct syntax for this import\n",
    "#\n",
    "#from tqdm.notebook import tqdm as tqdm2"
   ]
  },
  {
   "cell_type": "code",
   "execution_count": 2,
   "metadata": {},
   "outputs": [
    {
     "output_type": "stream",
     "name": "stdout",
     "text": [
      "---------  ---------  ---\nFirst Nme  Last Name  Age\nJohn       Smith      39\nMary       Jane       25\nJennifer   Doe        28\n---------  ---------  ---\n"
     ]
    }
   ],
   "source": [
    "table = [['First Nme', 'Last Name', 'Age'], \n",
    "         ['John', 'Smith', 39],\n",
    "         ['Mary', 'Jane', 25],\n",
    "         ['Jennifer', 'Doe', 28]]\n",
    "\n",
    "print(tabulate(table))"
   ]
  },
  {
   "cell_type": "code",
   "execution_count": 3,
   "metadata": {},
   "outputs": [
    {
     "output_type": "stream",
     "name": "stdout",
     "text": [
      "First Nme    Last Name      Age\n-----------  -----------  -----\nJohn         Smith           39\nMary         Jane            25\nJennifer     Doe             28\n"
     ]
    }
   ],
   "source": [
    "print(tabulate(table, headers='firstrow'))"
   ]
  },
  {
   "cell_type": "code",
   "execution_count": 4,
   "metadata": {},
   "outputs": [
    {
     "output_type": "stream",
     "name": "stdout",
     "text": [
      "╒═════════════╤═════════════╤═══════╕\n│ First Nme   │ Last Name   │   Age │\n╞═════════════╪═════════════╪═══════╡\n│ John        │ Smith       │    39 │\n├─────────────┼─────────────┼───────┤\n│ Mary        │ Jane        │    25 │\n├─────────────┼─────────────┼───────┤\n│ Jennifer    │ Doe         │    28 │\n╘═════════════╧═════════════╧═══════╛\n"
     ]
    }
   ],
   "source": [
    "print(tabulate(table, headers='firstrow', tablefmt='fancy_grid'))"
   ]
  },
  {
   "cell_type": "code",
   "execution_count": 5,
   "metadata": {},
   "outputs": [
    {
     "output_type": "stream",
     "name": "stdout",
     "text": [
      "╒══════════════╤═════════════╤═══════╕\n│ First Name   │ Last Name   │   Age │\n╞══════════════╪═════════════╪═══════╡\n│ John         │ Smith       │    39 │\n├──────────────┼─────────────┼───────┤\n│ Mary         │ Jane        │    25 │\n├──────────────┼─────────────┼───────┤\n│ Jennifer     │ Doe         │    28 │\n╘══════════════╧═════════════╧═══════╛\n"
     ]
    }
   ],
   "source": [
    "info = {\"First Name\": ['John', 'Mary', 'Jennifer'],\n",
    "        \"Last Name\": ['Smith', 'Jane', 'Doe'],\n",
    "        \"Age\": [39, 25, 28]}\n",
    "\n",
    "print(tabulate(info, headers='keys', tablefmt='fancy_grid'))"
   ]
  },
  {
   "source": [
    "## Display progress bar using tqdm"
   ],
   "cell_type": "markdown",
   "metadata": {}
  },
  {
   "cell_type": "code",
   "execution_count": 6,
   "metadata": {},
   "outputs": [
    {
     "output_type": "stream",
     "name": "stderr",
     "text": [
      "100%|██████████| 100000000/100000000 [00:40<00:00, 2457316.33it/s]\n"
     ]
    }
   ],
   "source": [
    "for x in tqdm(range(100000000)):\n",
    "\n",
    "    pass"
   ]
  },
  {
   "cell_type": "code",
   "execution_count": 9,
   "metadata": {},
   "outputs": [],
   "source": [
    "# TODO: Find correct syntax for this example\n",
    "#\n",
    "#add(num):\n",
    "#\n",
    "#   return reduce(lambda x, y: x + y, tqdm2(range(num + 1))) if type(num) == int else 0"
   ]
  },
  {
   "cell_type": "code",
   "execution_count": null,
   "metadata": {},
   "outputs": [],
   "source": []
  }
 ]
}