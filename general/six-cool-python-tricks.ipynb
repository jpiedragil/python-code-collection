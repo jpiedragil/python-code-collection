{
 "metadata": {
  "language_info": {
   "codemirror_mode": {
    "name": "ipython",
    "version": 3
   },
   "file_extension": ".py",
   "mimetype": "text/x-python",
   "name": "python",
   "nbconvert_exporter": "python",
   "pygments_lexer": "ipython3",
   "version": "3.8.6-final"
  },
  "orig_nbformat": 2,
  "kernelspec": {
   "name": "python3",
   "display_name": "Python 3",
   "language": "python"
  }
 },
 "nbformat": 4,
 "nbformat_minor": 2,
 "cells": [
  {
   "source": [
    "# 6 Cool Python Tricks You Should Know\n",
    "\n",
    "Source code from Medium's article: [6 Cool Python Tricks You Should Know](https://towardsdatascience.com/6-cool-python-tricks-you-should-know-bab1b6a42446) written by [Soner Yıldırım](https://sonery.medium.com/)."
   ],
   "cell_type": "markdown",
   "metadata": {}
  },
  {
   "source": [
    "## 1. Slices"
   ],
   "cell_type": "markdown",
   "metadata": {}
  },
  {
   "cell_type": "code",
   "execution_count": 1,
   "metadata": {},
   "outputs": [],
   "source": [
    "s = slice(3, 6)\n",
    "\n",
    "lst = [1, 3, 'a', 'b', 5, 11, 16]\n",
    "text = 'DataScience'\n",
    "tpl = (1, 2, 3, 4, 5, 6, 7)"
   ]
  },
  {
   "cell_type": "code",
   "execution_count": 2,
   "metadata": {},
   "outputs": [
    {
     "output_type": "stream",
     "name": "stdout",
     "text": [
      "['b', 5, 11]\n"
     ]
    }
   ],
   "source": [
    "print(lst[s])"
   ]
  },
  {
   "cell_type": "code",
   "execution_count": 3,
   "metadata": {},
   "outputs": [
    {
     "output_type": "stream",
     "name": "stdout",
     "text": [
      "aSc\n"
     ]
    }
   ],
   "source": [
    "print(text[s])"
   ]
  },
  {
   "cell_type": "code",
   "execution_count": 4,
   "metadata": {},
   "outputs": [
    {
     "output_type": "stream",
     "name": "stdout",
     "text": [
      "(4, 5, 6)\n"
     ]
    }
   ],
   "source": [
    "print(tpl[s])"
   ]
  },
  {
   "source": [
    "## 2. Swapping variables"
   ],
   "cell_type": "markdown",
   "metadata": {}
  },
  {
   "cell_type": "code",
   "execution_count": 5,
   "metadata": {},
   "outputs": [
    {
     "output_type": "stream",
     "name": "stdout",
     "text": [
      "Emily\nJohn\n"
     ]
    }
   ],
   "source": [
    "a = 'John'\n",
    "b = 'Emily'\n",
    "\n",
    "c = a\n",
    "a = b\n",
    "b = c\n",
    "\n",
    "print(a)\n",
    "print(b)"
   ]
  },
  {
   "cell_type": "code",
   "execution_count": 6,
   "metadata": {},
   "outputs": [
    {
     "output_type": "stream",
     "name": "stdout",
     "text": [
      "50\n20\n"
     ]
    }
   ],
   "source": [
    "a = 20\n",
    "b = 50\n",
    "\n",
    "a, b = b, a\n",
    "\n",
    "print(a)\n",
    "print(b)"
   ]
  },
  {
   "source": [
    "## 3. Sorting a list of lists"
   ],
   "cell_type": "markdown",
   "metadata": {}
  },
  {
   "cell_type": "code",
   "execution_count": 2,
   "metadata": {},
   "outputs": [],
   "source": [
    "lst = [[2, 7], [7, 3], [3, 8], [8, 7], [9, 7], [4, 9]]"
   ]
  },
  {
   "source": [
    "### Sort list on the second item"
   ],
   "cell_type": "markdown",
   "metadata": {}
  },
  {
   "cell_type": "code",
   "execution_count": 3,
   "metadata": {},
   "outputs": [
    {
     "output_type": "stream",
     "name": "stdout",
     "text": [
      "[[7, 3], [2, 7], [8, 7], [9, 7], [3, 8], [4, 9]]\n"
     ]
    }
   ],
   "source": [
    "lst.sort(key=lambda inner:inner[1])\n",
    "\n",
    "print(lst)"
   ]
  },
  {
   "cell_type": "code",
   "execution_count": 4,
   "metadata": {},
   "outputs": [
    {
     "output_type": "stream",
     "name": "stdout",
     "text": [
      "[[2, 7], [3, 8], [4, 9], [7, 3], [8, 7], [9, 7]]\n"
     ]
    }
   ],
   "source": [
    "lst.sort(key=lambda inner:inner[0])\n",
    "\n",
    "print(lst)"
   ]
  },
  {
   "source": [
    "## 4. Argument unpacking"
   ],
   "cell_type": "markdown",
   "metadata": {}
  },
  {
   "cell_type": "code",
   "execution_count": 5,
   "metadata": {},
   "outputs": [
    {
     "output_type": "execute_result",
     "data": {
      "text/plain": [
       "24"
      ]
     },
     "metadata": {},
     "execution_count": 5
    }
   ],
   "source": [
    "def mult(a, b, c):\n",
    "\n",
    "    return a * b * c\n",
    "\n",
    "mult(2, 3, 4)"
   ]
  },
  {
   "cell_type": "code",
   "execution_count": 16,
   "metadata": {},
   "outputs": [],
   "source": [
    "def mult(*args):\n",
    "\n",
    "    result = 1\n",
    "\n",
    "    for i in args:\n",
    "\n",
    "        result *= i\n",
    "\n",
    "    return result"
   ]
  },
  {
   "cell_type": "code",
   "execution_count": 20,
   "metadata": {},
   "outputs": [
    {
     "output_type": "stream",
     "name": "stdout",
     "text": [
      "6\n24\n120\n"
     ]
    }
   ],
   "source": [
    "print(mult(2, 3))\n",
    "print(mult(2, 3, 4))\n",
    "print(mult(2, 3, 4, 5))"
   ]
  },
  {
   "source": [
    "## 5. Decompose a collection"
   ],
   "cell_type": "markdown",
   "metadata": {}
  },
  {
   "cell_type": "code",
   "execution_count": 21,
   "metadata": {},
   "outputs": [
    {
     "output_type": "stream",
     "name": "stdout",
     "text": [
      "1 2\n"
     ]
    }
   ],
   "source": [
    "tpl = (1, 2)\n",
    "\n",
    "x = tpl[0]\n",
    "y = tpl[1]\n",
    "\n",
    "print(x, y)"
   ]
  },
  {
   "cell_type": "code",
   "execution_count": 22,
   "metadata": {},
   "outputs": [
    {
     "output_type": "stream",
     "name": "stdout",
     "text": [
      "1 2\n"
     ]
    }
   ],
   "source": [
    "x, y = tpl\n",
    "\n",
    "print(x, y)"
   ]
  },
  {
   "cell_type": "code",
   "execution_count": 23,
   "metadata": {},
   "outputs": [
    {
     "output_type": "stream",
     "name": "stdout",
     "text": [
      "1 2 3\n"
     ]
    }
   ],
   "source": [
    "x, y, z = {1, 2, 3}\n",
    "\n",
    "print(x, y, z)"
   ]
  },
  {
   "cell_type": "code",
   "execution_count": 24,
   "metadata": {},
   "outputs": [
    {
     "output_type": "stream",
     "name": "stdout",
     "text": [
      "a b c\n"
     ]
    }
   ],
   "source": [
    "x, y, z = ['a', 'b', 'c']\n",
    "\n",
    "print(x, y, z)"
   ]
  },
  {
   "source": [
    "## 6. F strings"
   ],
   "cell_type": "markdown",
   "metadata": {}
  },
  {
   "cell_type": "code",
   "execution_count": 25,
   "metadata": {},
   "outputs": [
    {
     "output_type": "stream",
     "name": "stdout",
     "text": [
      "John is 15 years old\n"
     ]
    }
   ],
   "source": [
    "name = 'John'\n",
    "age = 15\n",
    "\n",
    "print(\"{} is {} years old.\".format(name, age))"
   ]
  },
  {
   "cell_type": "code",
   "execution_count": 26,
   "metadata": {},
   "outputs": [
    {
     "output_type": "stream",
     "name": "stdout",
     "text": [
      "John is 15 years old.\n"
     ]
    }
   ],
   "source": [
    "print(f\"{name} is {age} years old.\")"
   ]
  },
  {
   "cell_type": "code",
   "execution_count": null,
   "metadata": {},
   "outputs": [],
   "source": []
  }
 ]
}