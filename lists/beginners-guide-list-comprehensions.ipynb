{
 "metadata": {
  "language_info": {
   "codemirror_mode": {
    "name": "ipython",
    "version": 3
   },
   "file_extension": ".py",
   "mimetype": "text/x-python",
   "name": "python",
   "nbconvert_exporter": "python",
   "pygments_lexer": "ipython3",
   "version": "3.8.5-final"
  },
  "orig_nbformat": 2,
  "kernelspec": {
   "name": "python_defaultSpec_1599778359058",
   "display_name": "Python 3.8.5 64-bit ('jpnb_py38': conda)"
  }
 },
 "nbformat": 4,
 "nbformat_minor": 2,
 "cells": [
  {
   "source": [
    "# A Beginner’s Guide to Python List \n",
    "\n",
    "Source code for Medium's article [\"A Beginner’s Guide to Python List Comprehensions\"](https://medium.com/code-85/a-beginners-guide-to-python-list-comprehensions-7dbb0039f065), written by [Jonathan Hsu](https://medium.com/@jhsu98)."
   ],
   "cell_type": "markdown",
   "metadata": {}
  },
  {
   "source": [
    "## Creating Our First List Comprehension "
   ],
   "cell_type": "markdown",
   "metadata": {}
  },
  {
   "cell_type": "code",
   "execution_count": 1,
   "metadata": {
    "tags": []
   },
   "outputs": [
    {
     "output_type": "stream",
     "name": "stdout",
     "text": "[1, 2, 3, 4, 5]\n"
    }
   ],
   "source": [
    "nums = [n for n in range(1, 6)]\n",
    "\n",
    "print(nums)"
   ]
  },
  {
   "source": [
    "## List Comprehension with Modification"
   ],
   "cell_type": "markdown",
   "metadata": {}
  },
  {
   "cell_type": "code",
   "execution_count": 3,
   "metadata": {
    "tags": []
   },
   "outputs": [
    {
     "output_type": "stream",
     "name": "stdout",
     "text": "[1, 4, 9, 16, 25]\n"
    }
   ],
   "source": [
    "nums = [1, 2, 3, 4, 5]\n",
    "\n",
    "squares = [n * n for n in nums]\n",
    "\n",
    "print(squares)"
   ]
  },
  {
   "source": [
    "## List Comprehension With Filtering"
   ],
   "cell_type": "markdown",
   "metadata": {}
  },
  {
   "cell_type": "code",
   "execution_count": 4,
   "metadata": {
    "tags": []
   },
   "outputs": [
    {
     "output_type": "stream",
     "name": "stdout",
     "text": "[1, 9, 25]\n"
    }
   ],
   "source": [
    "nums = [1, 2, 3, 4, 5]\n",
    "\n",
    "odd_squares = [n * n for n in nums if n % 2 == 1]\n",
    "\n",
    "print(odd_squares)"
   ]
  },
  {
   "source": [
    "## List Comprehension With Nested For Loop"
   ],
   "cell_type": "markdown",
   "metadata": {}
  },
  {
   "cell_type": "code",
   "execution_count": 5,
   "metadata": {
    "tags": []
   },
   "outputs": [
    {
     "output_type": "stream",
     "name": "stdout",
     "text": "[[1, 2, 3], [1, 2, 3], [1, 2, 3]]\n"
    }
   ],
   "source": [
    "matrix = [[x for x in range(1, 4)] for y in range(1, 4)]\n",
    "\n",
    "print(matrix)"
   ]
  },
  {
   "cell_type": "code",
   "execution_count": 6,
   "metadata": {
    "tags": []
   },
   "outputs": [
    {
     "output_type": "stream",
     "name": "stdout",
     "text": "[[1, 2, 3], [1, 2, 3], [1, 2, 3]]\n"
    }
   ],
   "source": [
    "matrix = [\n",
    "    [x for x in range(1, 4)]\n",
    "    for y in range(1, 4)\n",
    "]\n",
    "\n",
    "print(matrix)"
   ]
  },
  {
   "cell_type": "code",
   "execution_count": 7,
   "metadata": {
    "tags": []
   },
   "outputs": [
    {
     "output_type": "stream",
     "name": "stdout",
     "text": "['9/25/1984', '8/21/1995']\n"
    }
   ],
   "source": [
    "people = [{\n",
    "    \"first_name\": \"Mata\",\n",
    "    \"last_name\": \"Rosendall\",\n",
    "    \"birthday\": \"9/25/1984\"\n",
    "}, {\n",
    "    \"first_name\": \"Sandra\",\n",
    "    \"last_name\": \"O'Gaven\",\n",
    "    \"birthday\": \"8/21/1995\"\n",
    "}]\n",
    "\n",
    "birthdays = [\n",
    "    person[term]\n",
    "    for person in people\n",
    "    for term in person\n",
    "    if term == \"birthday\"\n",
    "]\n",
    "\n",
    "print(birthdays)"
   ]
  },
  {
   "cell_type": "code",
   "execution_count": null,
   "metadata": {},
   "outputs": [],
   "source": []
  }
 ]
}