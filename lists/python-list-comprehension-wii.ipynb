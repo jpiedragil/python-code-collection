{
 "metadata": {
  "language_info": {
   "codemirror_mode": {
    "name": "ipython",
    "version": 3
   },
   "file_extension": ".py",
   "mimetype": "text/x-python",
   "name": "python",
   "nbconvert_exporter": "python",
   "pygments_lexer": "ipython3",
   "version": "3.8.6-final"
  },
  "orig_nbformat": 2,
  "kernelspec": {
   "name": "python3",
   "display_name": "Python 3.8.6 64-bit ('main38': conda)",
   "metadata": {
    "interpreter": {
     "hash": "452ce9be359cd21985eeb33c4f307253073a87ccc449cceb9fb11b976611f783"
    }
   }
  }
 },
 "nbformat": 4,
 "nbformat_minor": 2,
 "cells": [
  {
   "source": [
    "# Python List Comprehension: What it Is, How it Works, Examples\n",
    "\n",
    "Source code from [\"Python List Comprehension: What it Is, How it Works, Examples\"](https://medium.com/pythonland/python-list-comprehension-what-it-is-how-it-works-and-examples-3069f12d36dd), written by [Erik van Baaren](https://medium.com/@eriky)."
   ],
   "cell_type": "markdown",
   "metadata": {}
  },
  {
   "source": [
    "## Examples of List Comprehensions"
   ],
   "cell_type": "markdown",
   "metadata": {}
  },
  {
   "cell_type": "code",
   "execution_count": 1,
   "metadata": {},
   "outputs": [
    {
     "output_type": "execute_result",
     "data": {
      "text/plain": [
       "[1, 2, 3, 4]"
      ]
     },
     "metadata": {},
     "execution_count": 1
    }
   ],
   "source": [
    "[x for x in range(1, 5)]"
   ]
  },
  {
   "cell_type": "code",
   "execution_count": 2,
   "metadata": {},
   "outputs": [
    {
     "output_type": "execute_result",
     "data": {
      "text/plain": [
       "[2, 4, 6, 8]"
      ]
     },
     "metadata": {},
     "execution_count": 2
    }
   ],
   "source": [
    "[x for x in range(1, 10) if x % 2 == 0]"
   ]
  },
  {
   "cell_type": "code",
   "execution_count": 3,
   "metadata": {},
   "outputs": [
    {
     "output_type": "execute_result",
     "data": {
      "text/plain": [
       "[14, 24]"
      ]
     },
     "metadata": {},
     "execution_count": 3
    }
   ],
   "source": [
    "[x + 4 for x in [10, 20]]"
   ]
  },
  {
   "cell_type": "code",
   "execution_count": 4,
   "metadata": {},
   "outputs": [
    {
     "output_type": "stream",
     "name": "stdout",
     "text": [
      "[2.5, 3.0, 3.5, 4.0, 4.5, 5.0, 5.5, 6.0]\n"
     ]
    }
   ],
   "source": [
    "def some_function(a):\n",
    "\n",
    "    return (a + 5) / 2\n",
    "\n",
    "m = [some_function(i) for i in range(8)]\n",
    "print(m)"
   ]
  },
  {
   "source": [
    "## More Advanced Examples"
   ],
   "cell_type": "markdown",
   "metadata": {}
  },
  {
   "cell_type": "code",
   "execution_count": 5,
   "metadata": {},
   "outputs": [
    {
     "output_type": "execute_result",
     "data": {
      "text/plain": [
       "[[0, 1, 2], [0, 1, 2], [0, 1, 2], [0, 1, 2]]"
      ]
     },
     "metadata": {},
     "execution_count": 5
    }
   ],
   "source": [
    "[[j for j in range(3)] for i in range(4)]"
   ]
  },
  {
   "cell_type": "code",
   "execution_count": 22,
   "metadata": {},
   "outputs": [
    {
     "output_type": "execute_result",
     "data": {
      "text/plain": [
       "[0, 1, 2, 0, 1, 2, 0, 1, 2, 0, 1, 2]"
      ]
     },
     "metadata": {},
     "execution_count": 22
    }
   ],
   "source": [
    "matrix = [[j for j in range(3)] for i in range(4)]\n",
    "\n",
    "[value for sublist in matrix for value in sublist]"
   ]
  },
  {
   "source": [
    "## Other Comprehensions"
   ],
   "cell_type": "markdown",
   "metadata": {}
  },
  {
   "source": [
    "### Set Comprehensions"
   ],
   "cell_type": "markdown",
   "metadata": {}
  },
  {
   "cell_type": "code",
   "execution_count": 19,
   "metadata": {},
   "outputs": [
    {
     "output_type": "execute_result",
     "data": {
      "text/plain": [
       "{1, 3}"
      ]
     },
     "metadata": {},
     "execution_count": 19
    }
   ],
   "source": [
    "{ s for s in range(1, 5) if s % 2}"
   ]
  },
  {
   "source": [
    "### Dictionary Comprehensions"
   ],
   "cell_type": "markdown",
   "metadata": {}
  },
  {
   "cell_type": "code",
   "execution_count": 20,
   "metadata": {},
   "outputs": [
    {
     "output_type": "execute_result",
     "data": {
      "text/plain": [
       "{2: 4, 4: 16, 6: 36}"
      ]
     },
     "metadata": {},
     "execution_count": 20
    }
   ],
   "source": [
    "{x: x**2 for x in (2, 4, 6)}"
   ]
  }
 ]
}