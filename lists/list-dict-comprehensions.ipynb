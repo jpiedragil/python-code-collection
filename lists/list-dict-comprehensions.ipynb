{
 "metadata": {
  "language_info": {
   "codemirror_mode": {
    "name": "ipython",
    "version": 3
   },
   "file_extension": ".py",
   "mimetype": "text/x-python",
   "name": "python",
   "nbconvert_exporter": "python",
   "pygments_lexer": "ipython3",
   "version": "3.8.5-final"
  },
  "orig_nbformat": 2,
  "kernelspec": {
   "name": "python_defaultSpec_1599761330134",
   "display_name": "Python 3.8.5 64-bit ('jpnb_py38': conda)"
  }
 },
 "nbformat": 4,
 "nbformat_minor": 2,
 "cells": [
  {
   "cell_type": "markdown",
   "metadata": {},
   "source": [
    "# The use of list, dictionary and set comprehensions to shorten your code\n",
    "\n",
    "Source code from Medium's article [\"The use of list, dictionary and set comprehensions to shorten your code\"](https://towardsdatascience.com/the-use-of-list-dictionary-and-set-comprehensions-to-shorten-your-code-66e6dfeaae13), written by [Philip Wilkinson](https://towardsdatascience.com/@pip.wilkinson97)."
   ]
  },
  {
   "cell_type": "code",
   "execution_count": 20,
   "metadata": {},
   "outputs": [],
   "source": [
    "import random"
   ]
  },
  {
   "cell_type": "markdown",
   "metadata": {},
   "source": [
    "## Lists"
   ]
  },
  {
   "cell_type": "code",
   "execution_count": 1,
   "metadata": {},
   "outputs": [],
   "source": [
    "list1 = [1, 2, 3, \"hello\", 7.0, 52]"
   ]
  },
  {
   "cell_type": "code",
   "execution_count": 2,
   "metadata": {},
   "outputs": [],
   "source": [
    "nums = [1, 2, 3, 4, 5, 6, 7, 8]"
   ]
  },
  {
   "cell_type": "code",
   "execution_count": 3,
   "metadata": {
    "tags": []
   },
   "outputs": [
    {
     "output_type": "stream",
     "name": "stdout",
     "text": "[1, 2, 3, 4, 5, 6, 7, 8, 9, 10, 11, 12, 13, 14, 15, 16, 17, 18, 19, 20, 21, 22, 23, 24, 25, 26, 27, 28, 29, 30, 31, 32, 33, 34, 35, 36, 37, 38, 39, 40, 41, 42, 43, 44, 45, 46, 47, 48, 49, 50]\n"
    }
   ],
   "source": [
    "nums = []\n",
    "\n",
    "for i in range(1, 51):\n",
    "\n",
    "    nums.append(i)\n",
    "\n",
    "print(nums)    "
   ]
  },
  {
   "cell_type": "code",
   "execution_count": 4,
   "metadata": {
    "tags": []
   },
   "outputs": [
    {
     "output_type": "stream",
     "name": "stdout",
     "text": "[1, 2, 3, 4, 5, 6, 7, 8, 9, 10, 11, 12, 13, 14, 15, 16, 17, 18, 19, 20, 21, 22, 23, 24, 25, 26, 27, 28, 29, 30, 31, 32, 33, 34, 35, 36, 37, 38, 39, 40, 41, 42, 43, 44, 45, 46, 47, 48, 49, 50]\n"
    }
   ],
   "source": [
    "nums = [i for i in range(1, 51)]\n",
    "\n",
    "print(nums)"
   ]
  },
  {
   "cell_type": "code",
   "execution_count": 5,
   "metadata": {
    "tags": []
   },
   "outputs": [
    {
     "output_type": "stream",
     "name": "stdout",
     "text": "[4, 16, 36, 64, 100, 144, 196, 256, 324, 400, 484, 576]\n"
    }
   ],
   "source": [
    "square_nums = []\n",
    "\n",
    "for x in range( 1, 26):\n",
    "\n",
    "    if x % 2 == 0:\n",
    "\n",
    "        square_nums.append(x**2)\n",
    "\n",
    "print(square_nums)"
   ]
  },
  {
   "cell_type": "code",
   "execution_count": 6,
   "metadata": {
    "tags": []
   },
   "outputs": [
    {
     "output_type": "stream",
     "name": "stdout",
     "text": "[4, 16, 36, 64, 100, 144, 196, 256, 324, 400, 484, 576]\n"
    }
   ],
   "source": [
    "square_nums = [x**2 for x in range(1, 26) if x % 2 == 0]\n",
    "\n",
    "print(square_nums)"
   ]
  },
  {
   "cell_type": "markdown",
   "metadata": {},
   "source": [
    "## Dictionaries"
   ]
  },
  {
   "cell_type": "code",
   "execution_count": 7,
   "metadata": {
    "tags": []
   },
   "outputs": [
    {
     "output_type": "stream",
     "name": "stdout",
     "text": "{'Steven': 57, 'Jessica': 82, 'William': 42, 'Hussein': 78, 'Mary': 65}\n"
    }
   ],
   "source": [
    "Grades = {\n",
    "    \n",
    "    \"Steven\": 57,\n",
    "    \"Jessica\": 82,\n",
    "    \"William\": 42,\n",
    "    \"Hussein\": 78,\n",
    "    \"Mary\": 65   \n",
    "}\n",
    "\n",
    "print(Grades)"
   ]
  },
  {
   "cell_type": "code",
   "execution_count": 8,
   "metadata": {
    "tags": []
   },
   "outputs": [
    {
     "output_type": "stream",
     "name": "stdout",
     "text": "{2: 4, 4: 16, 6: 36, 8: 64}\n"
    }
   ],
   "source": [
    "# Initialising empty dict\n",
    "even_squared_dict = {}\n",
    "\n",
    "for x in range( 1, 10):\n",
    "\n",
    "    if x % 2 == 0:\n",
    "\n",
    "        even_squared_dict[x] = x**2\n",
    "\n",
    "print(even_squared_dict)"
   ]
  },
  {
   "cell_type": "code",
   "execution_count": 9,
   "metadata": {
    "tags": []
   },
   "outputs": [
    {
     "output_type": "stream",
     "name": "stdout",
     "text": "{2: 4, 4: 16, 6: 36, 8: 64}\n"
    }
   ],
   "source": [
    "even_squared_dict = {x: x**2 for x in range(1, 10) if x % 2 == 0}\n",
    "\n",
    "print(even_squared_dict)"
   ]
  },
  {
   "cell_type": "code",
   "execution_count": 10,
   "metadata": {
    "tags": []
   },
   "outputs": [
    {
     "output_type": "stream",
     "name": "stdout",
     "text": "{'CAN': 'CA', 'FIN': 'FI', 'FRA': 'FR', 'GAB': 'GA', 'HKG': 'HK', 'IMNMCO': 'IM', 'NPL': 'NP'}\n"
    }
   ],
   "source": [
    "ThreeCharCodes = [\"CAN\", \"FIN\", \"FRA\", \"GAB\", \"HKG\", \"IMN\"\n",
    "                  \"MCO\", \"NPL\"]\n",
    "\n",
    "cntryDict = {c: c[:2] for c in ThreeCharCodes}\n",
    "\n",
    "print(cntryDict)"
   ]
  },
  {
   "cell_type": "markdown",
   "metadata": {},
   "source": [
    "## Sets"
   ]
  },
  {
   "cell_type": "code",
   "execution_count": 19,
   "metadata": {
    "tags": []
   },
   "outputs": [
    {
     "output_type": "stream",
     "name": "stdout",
     "text": "{'banana', 'cherry', 'peach', 'apple'}\n{'pear', 'orange', 'grape'}\n"
    }
   ],
   "source": [
    "Fruits1 = set([\"apple\", \"banana\", \"cherry\", \"peach\"])\n",
    "print(Fruits1)\n",
    "\n",
    "Fruits2 = {\"orange\", \"pear\", \"grape\", \"pear\"}\n",
    "print(Fruits2)"
   ]
  },
  {
   "cell_type": "code",
   "execution_count": 21,
   "metadata": {
    "tags": []
   },
   "outputs": [
    {
     "output_type": "stream",
     "name": "stdout",
     "text": "{10, 11, 12, 13, 14, 15, 16, 20}\n"
    }
   ],
   "source": [
    "nums = set([])\n",
    "\n",
    "for x in range(25):\n",
    "\n",
    "    y = random.randint(10, 20)\n",
    "    nums.add(y)\n",
    "\n",
    "print(nums)"
   ]
  },
  {
   "cell_type": "code",
   "execution_count": 22,
   "metadata": {
    "tags": []
   },
   "outputs": [
    {
     "output_type": "stream",
     "name": "stdout",
     "text": "{10, 11, 12, 13, 14, 15, 17, 19, 20}\n"
    }
   ],
   "source": [
    "nums = {random.randint(10, 20) for num in range(25)}\n",
    "\n",
    "print(nums)"
   ]
  },
  {
   "cell_type": "code",
   "execution_count": 23,
   "metadata": {
    "tags": []
   },
   "outputs": [
    {
     "output_type": "stream",
     "name": "stdout",
     "text": "{6.25, 7.5, 40.625, 46.875, 21.25, 23.75, 25.0}\n"
    }
   ],
   "source": [
    "kms = [10, 12, 65, 40, 12, 75, 34, 65, 10, 10, 38, 100, 160, 200]\n",
    "\n",
    "miles = {d/1.6 for d in kms if d < 100}\n",
    "\n",
    "print(miles)"
   ]
  },
  {
   "cell_type": "code",
   "execution_count": null,
   "metadata": {},
   "outputs": [],
   "source": [
    "\n"
   ]
  }
 ]
}