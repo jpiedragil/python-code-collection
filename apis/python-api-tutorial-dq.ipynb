{
 "cells": [
  {
   "cell_type": "markdown",
   "metadata": {},
   "source": [
    "# Python API Tutorial: Getting Started with APIs\n",
    "\n",
    "Source code from DATAQUEST tutorial [\"Python API Tutorial: Getting Started with APIs\"](https://www.dataquest.io/blog/python-api-tutorial/) written by [Josh Devlin](https://www.dataquest.io/blog/author/josh-devlin/)."
   ]
  },
  {
   "cell_type": "markdown",
   "metadata": {},
   "source": [
    "# Making API Requests in Python"
   ]
  },
  {
   "cell_type": "code",
   "execution_count": 1,
   "metadata": {
    "execution": {
     "iopub.execute_input": "2020-10-11T20:19:39.318262Z",
     "iopub.status.busy": "2020-10-11T20:19:39.317259Z",
     "iopub.status.idle": "2020-10-11T20:19:39.510252Z",
     "shell.execute_reply": "2020-10-11T20:19:39.508249Z",
     "shell.execute_reply.started": "2020-10-11T20:19:39.318262Z"
    }
   },
   "outputs": [],
   "source": [
    "import requests"
   ]
  },
  {
   "cell_type": "markdown",
   "metadata": {},
   "source": [
    "# Making Our First API Request"
   ]
  },
  {
   "cell_type": "code",
   "execution_count": 2,
   "metadata": {
    "execution": {
     "iopub.execute_input": "2020-10-11T20:21:51.836951Z",
     "iopub.status.busy": "2020-10-11T20:21:51.836951Z",
     "iopub.status.idle": "2020-10-11T20:21:52.085950Z",
     "shell.execute_reply": "2020-10-11T20:21:52.084955Z",
     "shell.execute_reply.started": "2020-10-11T20:21:51.836951Z"
    }
   },
   "outputs": [
    {
     "name": "stdout",
     "output_type": "stream",
     "text": [
      "404\n"
     ]
    }
   ],
   "source": [
    "response = requests.get(\"http://api.open-notify.org/this-api-doesnt-exist\")\n",
    "\n",
    "print(response.status_code)"
   ]
  },
  {
   "cell_type": "markdown",
   "metadata": {},
   "source": [
    "# API Documentation"
   ]
  },
  {
   "cell_type": "code",
   "execution_count": 3,
   "metadata": {
    "execution": {
     "iopub.execute_input": "2020-10-11T20:24:41.370871Z",
     "iopub.status.busy": "2020-10-11T20:24:41.369870Z",
     "iopub.status.idle": "2020-10-11T20:24:41.533868Z",
     "shell.execute_reply": "2020-10-11T20:24:41.531868Z",
     "shell.execute_reply.started": "2020-10-11T20:24:41.370871Z"
    }
   },
   "outputs": [
    {
     "name": "stdout",
     "output_type": "stream",
     "text": [
      "200\n"
     ]
    }
   ],
   "source": [
    "response = requests.get(\"http://api.open-notify.org/astros.json\")\n",
    "\n",
    "print(response.status_code)"
   ]
  },
  {
   "cell_type": "code",
   "execution_count": 4,
   "metadata": {
    "execution": {
     "iopub.execute_input": "2020-10-11T20:25:09.248337Z",
     "iopub.status.busy": "2020-10-11T20:25:09.248337Z",
     "iopub.status.idle": "2020-10-11T20:25:09.272344Z",
     "shell.execute_reply": "2020-10-11T20:25:09.269348Z",
     "shell.execute_reply.started": "2020-10-11T20:25:09.248337Z"
    }
   },
   "outputs": [
    {
     "name": "stdout",
     "output_type": "stream",
     "text": [
      "{'number': 3, 'people': [{'craft': 'ISS', 'name': 'Chris Cassidy'}, {'craft': 'ISS', 'name': 'Anatoly Ivanishin'}, {'craft': 'ISS', 'name': 'Ivan Vagner'}], 'message': 'success'}\n"
     ]
    }
   ],
   "source": [
    "print(response.json())"
   ]
  },
  {
   "cell_type": "markdown",
   "metadata": {},
   "source": [
    "# Working with JSON Data in Python"
   ]
  },
  {
   "cell_type": "code",
   "execution_count": 9,
   "metadata": {
    "execution": {
     "iopub.execute_input": "2020-10-11T20:31:57.957116Z",
     "iopub.status.busy": "2020-10-11T20:31:57.956117Z",
     "iopub.status.idle": "2020-10-11T20:31:57.977115Z",
     "shell.execute_reply": "2020-10-11T20:31:57.976113Z",
     "shell.execute_reply.started": "2020-10-11T20:31:57.957116Z"
    }
   },
   "outputs": [
    {
     "name": "stdout",
     "output_type": "stream",
     "text": [
      "{\n",
      "    \"message\": \"success\",\n",
      "    \"number\": 3,\n",
      "    \"people\": [\n",
      "        {\n",
      "            \"craft\": \"ISS\",\n",
      "            \"name\": \"Chris Cassidy\"\n",
      "        },\n",
      "        {\n",
      "            \"craft\": \"ISS\",\n",
      "            \"name\": \"Anatoly Ivanishin\"\n",
      "        },\n",
      "        {\n",
      "            \"craft\": \"ISS\",\n",
      "            \"name\": \"Ivan Vagner\"\n",
      "        }\n",
      "    ]\n",
      "}\n"
     ]
    }
   ],
   "source": [
    "import json\n",
    "\n",
    "def jprint(obj):\n",
    "    \n",
    "    # Create a formatted string of the Python JSON object\n",
    "    text = json.dumps(obj, sort_keys=True, indent=4)\n",
    "    print(text)\n",
    "    \n",
    "jprint(response.json())    "
   ]
  },
  {
   "cell_type": "markdown",
   "metadata": {},
   "source": [
    "# Using an API with Query Parameters"
   ]
  },
  {
   "cell_type": "code",
   "execution_count": 11,
   "metadata": {
    "execution": {
     "iopub.execute_input": "2020-10-11T20:35:21.044331Z",
     "iopub.status.busy": "2020-10-11T20:35:21.043331Z",
     "iopub.status.idle": "2020-10-11T20:35:21.061327Z",
     "shell.execute_reply": "2020-10-11T20:35:21.060329Z",
     "shell.execute_reply.started": "2020-10-11T20:35:21.044331Z"
    }
   },
   "outputs": [],
   "source": [
    "parameters = {\n",
    "    \"lat\": 40.71,\n",
    "    \"lon\": -74\n",
    "}"
   ]
  },
  {
   "cell_type": "code",
   "execution_count": 12,
   "metadata": {
    "execution": {
     "iopub.execute_input": "2020-10-11T20:38:15.423700Z",
     "iopub.status.busy": "2020-10-11T20:38:15.423700Z",
     "iopub.status.idle": "2020-10-11T20:38:15.579625Z",
     "shell.execute_reply": "2020-10-11T20:38:15.577621Z",
     "shell.execute_reply.started": "2020-10-11T20:38:15.423700Z"
    }
   },
   "outputs": [
    {
     "name": "stdout",
     "output_type": "stream",
     "text": [
      "{\n",
      "    \"message\": \"success\",\n",
      "    \"request\": {\n",
      "        \"altitude\": 100,\n",
      "        \"datetime\": 1602445166,\n",
      "        \"latitude\": 40.71,\n",
      "        \"longitude\": -74.0,\n",
      "        \"passes\": 5\n",
      "    },\n",
      "    \"response\": [\n",
      "        {\n",
      "            \"duration\": 642,\n",
      "            \"risetime\": 1602448615\n",
      "        },\n",
      "        {\n",
      "            \"duration\": 617,\n",
      "            \"risetime\": 1602454429\n",
      "        },\n",
      "        {\n",
      "            \"duration\": 550,\n",
      "            \"risetime\": 1602508843\n",
      "        },\n",
      "        {\n",
      "            \"duration\": 653,\n",
      "            \"risetime\": 1602514576\n",
      "        },\n",
      "        {\n",
      "            \"duration\": 594,\n",
      "            \"risetime\": 1602520441\n",
      "        }\n",
      "    ]\n",
      "}\n"
     ]
    }
   ],
   "source": [
    "response = requests.get(\"http://api.open-notify.org/iss-pass.json\", params=parameters)\n",
    "\n",
    "jprint(response.json())"
   ]
  },
  {
   "cell_type": "markdown",
   "metadata": {},
   "source": [
    "# Understanding the Pass Times"
   ]
  },
  {
   "cell_type": "code",
   "execution_count": 13,
   "metadata": {
    "execution": {
     "iopub.execute_input": "2020-10-11T20:40:08.954451Z",
     "iopub.status.busy": "2020-10-11T20:40:08.953456Z",
     "iopub.status.idle": "2020-10-11T20:40:08.969451Z",
     "shell.execute_reply": "2020-10-11T20:40:08.968449Z",
     "shell.execute_reply.started": "2020-10-11T20:40:08.954451Z"
    }
   },
   "outputs": [
    {
     "name": "stdout",
     "output_type": "stream",
     "text": [
      "[\n",
      "    {\n",
      "        \"duration\": 642,\n",
      "        \"risetime\": 1602448615\n",
      "    },\n",
      "    {\n",
      "        \"duration\": 617,\n",
      "        \"risetime\": 1602454429\n",
      "    },\n",
      "    {\n",
      "        \"duration\": 550,\n",
      "        \"risetime\": 1602508843\n",
      "    },\n",
      "    {\n",
      "        \"duration\": 653,\n",
      "        \"risetime\": 1602514576\n",
      "    },\n",
      "    {\n",
      "        \"duration\": 594,\n",
      "        \"risetime\": 1602520441\n",
      "    }\n",
      "]\n"
     ]
    }
   ],
   "source": [
    "pass_times = response.json()[\"response\"]\n",
    "\n",
    "jprint(pass_times)"
   ]
  },
  {
   "cell_type": "code",
   "execution_count": 14,
   "metadata": {
    "execution": {
     "iopub.execute_input": "2020-10-11T20:42:21.635100Z",
     "iopub.status.busy": "2020-10-11T20:42:21.634101Z",
     "iopub.status.idle": "2020-10-11T20:42:21.647100Z",
     "shell.execute_reply": "2020-10-11T20:42:21.645104Z",
     "shell.execute_reply.started": "2020-10-11T20:42:21.635100Z"
    }
   },
   "outputs": [
    {
     "name": "stdout",
     "output_type": "stream",
     "text": [
      "[1602448615, 1602454429, 1602508843, 1602514576, 1602520441]\n"
     ]
    }
   ],
   "source": [
    "risetimes = []\n",
    "\n",
    "for d in pass_times:\n",
    "    \n",
    "    time = d[\"risetime\"]\n",
    "    risetimes.append(time)\n",
    "    \n",
    "print(risetimes)    "
   ]
  },
  {
   "cell_type": "code",
   "execution_count": 15,
   "metadata": {
    "execution": {
     "iopub.execute_input": "2020-10-11T20:44:31.128179Z",
     "iopub.status.busy": "2020-10-11T20:44:31.128179Z",
     "iopub.status.idle": "2020-10-11T20:44:31.144179Z",
     "shell.execute_reply": "2020-10-11T20:44:31.142177Z",
     "shell.execute_reply.started": "2020-10-11T20:44:31.128179Z"
    }
   },
   "outputs": [
    {
     "name": "stdout",
     "output_type": "stream",
     "text": [
      "2020-10-11 15:36:55\n",
      "2020-10-11 17:13:49\n",
      "2020-10-12 08:20:43\n",
      "2020-10-12 09:56:16\n",
      "2020-10-12 11:34:01\n"
     ]
    }
   ],
   "source": [
    "from datetime import datetime\n",
    "\n",
    "times = []\n",
    "\n",
    "for rt in risetimes:\n",
    "    \n",
    "    time = datetime.fromtimestamp(rt)\n",
    "    times.append(time)\n",
    "    print(time)"
   ]
  },
  {
   "cell_type": "code",
   "execution_count": null,
   "metadata": {},
   "outputs": [],
   "source": []
  }
 ],
 "metadata": {
  "kernelspec": {
   "display_name": "Python [conda env:.conda-jpnb_py38] *",
   "language": "python",
   "name": "conda-env-.conda-jpnb_py38-py"
  },
  "language_info": {
   "codemirror_mode": {
    "name": "ipython",
    "version": 3
   },
   "file_extension": ".py",
   "mimetype": "text/x-python",
   "name": "python",
   "nbconvert_exporter": "python",
   "pygments_lexer": "ipython3",
   "version": "3.8.5"
  }
 },
 "nbformat": 4,
 "nbformat_minor": 4
}